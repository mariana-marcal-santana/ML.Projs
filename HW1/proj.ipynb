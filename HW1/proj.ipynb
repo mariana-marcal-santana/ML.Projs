{
 "cells": [
  {
   "cell_type": "code",
   "execution_count": null,
   "metadata": {},
   "outputs": [],
   "source": [
    "from sklearn.feature_selection import f_classif\n",
    "import arff\n",
    "import seaborn as sns\n",
    "import matplotlib.pyplot as plt\n",
    "\n",
    "def main():\n",
    "\n",
    "    with open(\"HW1/diabetes.arff\", \"r\") as file:\n",
    "\n",
    "        dataset = arff.load(file)\n",
    "        attribute_names = [attr[0] for attr in dataset['attributes']]\n",
    "        data_dict = {attr: [] for attr in attribute_names}\n",
    "\n",
    "        for row in dataset['data']:\n",
    "            for i, value in enumerate(row):\n",
    "                data_dict[attribute_names[i]].append(value)\n",
    "\n",
    "        print(data_dict)\n",
    "\n",
    "main()"
   ]
  }
 ],
 "metadata": {
  "language_info": {
   "name": "python"
  }
 },
 "nbformat": 4,
 "nbformat_minor": 2
}
