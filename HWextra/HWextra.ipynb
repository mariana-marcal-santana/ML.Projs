{
 "cells": [
  {
   "cell_type": "markdown",
   "metadata": {},
   "source": [
    "\"\"\"\n",
    "Machine Learning Homework 4\n",
    "Done by:\n",
    "Mariana Santana 106992\n",
    "Pedro Leal 106154\n",
    "LEIC-A\n",
    "\"\"\""
   ]
  },
  {
   "cell_type": "markdown",
   "metadata": {},
   "source": [
    "#### Consider the breast_cancer dataset data = datasets.load_breast_cancer()  with binary target variable y=‘malignant’. Split it 70% for training and 30% for testing."
   ]
  },
  {
   "cell_type": "code",
   "execution_count": 9,
   "metadata": {},
   "outputs": [],
   "source": [
    "\"\"\"\n",
    "General imports and variables for all exercises; run this cell before any other\n",
    "\"\"\"\n",
    "import numpy as np\n",
    "from sklearn.datasets import load_breast_cancer\n",
    "from sklearn.model_selection import train_test_split\n",
    "from sklearn.linear_model import LogisticRegression\n",
    "from sklearn.metrics import accuracy_score, silhouette_score\n",
    "from sklearn.mixture import GaussianMixture\n",
    "from sklearn.metrics.pairwise import rbf_kernel\n",
    "from sklearn.linear_model import Ridge\n",
    "\n",
    "data = load_breast_cancer()\n",
    "X, y = data.data, data.target"
   ]
  },
  {
   "cell_type": "markdown",
   "metadata": {},
   "source": [
    "#### 1) Perform logistic regression and indicate the accuracy. "
   ]
  },
  {
   "cell_type": "code",
   "execution_count": 10,
   "metadata": {},
   "outputs": [
    {
     "name": "stdout",
     "output_type": "stream",
     "text": [
      "Accuracy: 0.9532163742690059\n"
     ]
    }
   ],
   "source": [
    "X_train, X_test, y_train, y_test = train_test_split(X, y, test_size=0.3)\n",
    "\n",
    "log_reg = LogisticRegression(max_iter=10000)\n",
    "log_reg.fit(X_train, y_train)\n",
    "\n",
    "y_pred = log_reg.predict(X_test)\n",
    "\n",
    "accuracy = accuracy_score(y_test, y_pred)\n",
    "\n",
    "print(f\"Accuracy: {accuracy}\")"
   ]
  },
  {
   "cell_type": "markdown",
   "metadata": {},
   "source": [
    "#### 2) Perform EM clustering on the training data set with different number k of clusters. Evaluate the quality of the clusterings using Silhouette. Is the number of clusters correlated with the quality of clustering? Which is the optimal k? "
   ]
  },
  {
   "cell_type": "code",
   "execution_count": 11,
   "metadata": {},
   "outputs": [
    {
     "name": "stdout",
     "output_type": "stream",
     "text": [
      "Silhouette Scores: [0.6953546812827253, 0.6460072951798395, 0.44240066859293997, 0.40975176230240173, 0.4342973431576532, 0.4192675100180935, 0.4273557130544327, 0.4203979188373632]\n",
      "Optimal number of clusters: 2\n"
     ]
    }
   ],
   "source": [
    "k_values = range(2, 10)\n",
    "\n",
    "silhouette_scores = []\n",
    "\n",
    "for k in k_values:\n",
    "    gmm = GaussianMixture(n_components=k)\n",
    "    gmm.fit(X_train)\n",
    "    labels = gmm.predict(X_train)\n",
    "    score = silhouette_score(X_train, labels)\n",
    "    silhouette_scores.append(score)\n",
    "\n",
    "print(\"Silhouette Scores:\", silhouette_scores)\n",
    "optimal_k = k_values[np.argmax(silhouette_scores)]\n",
    "print(\"Optimal number of clusters:\", optimal_k)"
   ]
  },
  {
   "cell_type": "markdown",
   "metadata": {},
   "source": [
    "Upon performing EM clustering, we obtained the silhouette scores for the different number of clusters ([0.6953546812827253, 0.6460072951798395, 0.44240066859293997, 0.40975176230240173, 0.4342973431576532, 0.4192675100180935, 0.4273557130544327, 0.4203979188373632] in order from 2 to 9 clusters).\n",
    "\n",
    "We also know that overall silhouette score (average of the silhouettes of the individual points of the dataset) is used to evaluate the quality of clustering results. The individual silhouettes can range between -1 and 1 where lower values mean that the point has probably been assigned to the wrong cluster while higher values mean that the point matches nearly perfectly its neighbors (points of the same cluster) and very poorly points of different cluster, resulting in a better assignment of points to clusters. The overall silhouette of the model ranges between the same values as the previously explained silhouettes. For genereal interpretation, lower values suggest bad organization of points in clusters while values closer to 1 correspond to a lower intra-cluster distance (points in the same cluster are close to eachother) and higher inter-cluster distance (clusters are far apart from eachother).\n",
    "\n",
    "Given this, when analysing the varying results, we concluded that the number of clusters impacts the model's quality of clustering. This happens because the number of clusters has an effect in cohesion and separation (with too few cluster the model has low separation and high cohesion - points within clusters are not very similar and clusters may overlap and with too many clusters can lead to overfitting - clusters become too small and lose their generality). \n",
    "\n",
    "After this analysis, we concluded that there needed to be a balance in the model's cohesion and separation which are directly linked to its silhouette: the higher silhouette value belonged to k=2 (0.6953546812827253) which corresponds to the optimal number of cluster for this model and this data."
   ]
  },
  {
   "cell_type": "markdown",
   "metadata": {},
   "source": [
    "#### 3) Map the test set into probability values of the k-clusters. If you have a data point represented by a vector of dimension d, you will map it into a vector of dimension: prob=em_model.predict_proba(X)"
   ]
  },
  {
   "cell_type": "code",
   "execution_count": 12,
   "metadata": {},
   "outputs": [
    {
     "name": "stdout",
     "output_type": "stream",
     "text": [
      "(171, 2) [[1.00000000e+000 1.02192945e-066]\n",
      " [9.99999992e-001 8.08797928e-009]\n",
      " [5.08112793e-004 9.99491887e-001]\n",
      " [1.00000000e+000 7.32600240e-034]\n",
      " [1.00000000e+000 2.85688613e-028]\n",
      " [1.00000000e+000 1.62876385e-017]\n",
      " [1.00000000e+000 5.34417998e-023]\n",
      " [1.00000000e+000 5.22037926e-020]\n",
      " [1.00000000e+000 5.18611708e-020]\n",
      " [1.00000000e+000 1.14222273e-010]\n",
      " [1.00000000e+000 5.54610072e-029]\n",
      " [1.00000000e+000 1.59916739e-067]\n",
      " [9.99993366e-001 6.63431066e-006]\n",
      " [9.99999336e-001 6.63514000e-007]\n",
      " [1.00000000e+000 1.56112641e-067]\n",
      " [9.99999983e-001 1.71323412e-008]\n",
      " [1.00000000e+000 1.79417817e-036]\n",
      " [1.00000000e+000 5.87774023e-039]\n",
      " [1.00000000e+000 2.27343543e-010]\n",
      " [1.00000000e+000 4.97578510e-054]\n",
      " [5.65397152e-016 1.00000000e+000]\n",
      " [1.00000000e+000 1.28628351e-072]\n",
      " [2.12388386e-080 1.00000000e+000]\n",
      " [1.00000000e+000 1.77690232e-044]\n",
      " [1.00000000e+000 1.04312028e-052]\n",
      " [1.00000000e+000 7.27519126e-127]\n",
      " [9.99987540e-001 1.24599426e-005]\n",
      " [2.28344948e-058 1.00000000e+000]\n",
      " [4.72175086e-001 5.27824914e-001]\n",
      " [1.00000000e+000 3.05261055e-021]\n",
      " [1.00000000e+000 2.69077443e-121]\n",
      " [1.00000000e+000 3.22881927e-013]\n",
      " [1.00000000e+000 1.48560714e-039]\n",
      " [1.00000000e+000 1.47275876e-025]\n",
      " [1.00000000e+000 2.93401461e-072]\n",
      " [2.31799250e-041 1.00000000e+000]\n",
      " [9.99999994e-001 6.41592124e-009]\n",
      " [9.99999947e-001 5.30843196e-008]\n",
      " [1.00000000e+000 2.07394349e-013]\n",
      " [4.22868443e-009 9.99999996e-001]\n",
      " [9.99997102e-001 2.89785728e-006]\n",
      " [1.00000000e+000 2.99004712e-086]\n",
      " [1.00000000e+000 2.61142559e-028]\n",
      " [1.00000000e+000 2.20194005e-026]\n",
      " [1.00000000e+000 1.69106104e-013]\n",
      " [3.11356093e-006 9.99996886e-001]\n",
      " [1.00000000e+000 1.81951142e-065]\n",
      " [1.00000000e+000 1.37463682e-033]\n",
      " [1.00000000e+000 1.21716104e-013]\n",
      " [1.00000000e+000 7.60637238e-053]\n",
      " [2.68556765e-179 1.00000000e+000]\n",
      " [1.00000000e+000 3.37987936e-013]\n",
      " [1.00000000e+000 4.32529510e-049]\n",
      " [1.00000000e+000 1.14641259e-070]\n",
      " [1.00000000e+000 1.77062556e-026]\n",
      " [1.00000000e+000 6.05454820e-064]\n",
      " [1.00000000e+000 6.65605351e-030]\n",
      " [1.00000000e+000 2.21972861e-091]\n",
      " [1.00000000e+000 1.28281109e-051]\n",
      " [1.00000000e+000 1.93983542e-038]\n",
      " [1.00000000e+000 1.22694621e-020]\n",
      " [9.99997976e-001 2.02354401e-006]\n",
      " [9.99613549e-001 3.86451250e-004]\n",
      " [1.00000000e+000 9.39343628e-030]\n",
      " [9.27791537e-041 1.00000000e+000]\n",
      " [1.00000000e+000 1.40166416e-026]\n",
      " [1.00000000e+000 1.86849377e-044]\n",
      " [1.00000000e+000 4.48636425e-052]\n",
      " [1.00000000e+000 4.32800553e-016]\n",
      " [1.00000000e+000 9.32052256e-072]\n",
      " [9.99999997e-001 3.39260823e-009]\n",
      " [1.00000000e+000 1.60205641e-017]\n",
      " [1.00000000e+000 7.89688619e-022]\n",
      " [9.99998668e-001 1.33190592e-006]\n",
      " [1.00000000e+000 9.24760039e-184]\n",
      " [7.76885745e-001 2.23114255e-001]\n",
      " [1.00000000e+000 8.34457167e-022]\n",
      " [1.00000000e+000 3.78951999e-019]\n",
      " [1.00000000e+000 6.09264923e-042]\n",
      " [1.00000000e+000 1.03723204e-021]\n",
      " [1.00000000e+000 2.18480845e-012]\n",
      " [1.00000000e+000 5.84105716e-024]\n",
      " [1.28601614e-145 1.00000000e+000]\n",
      " [1.00000000e+000 8.60377462e-058]\n",
      " [2.88704041e-089 1.00000000e+000]\n",
      " [1.00000000e+000 2.11694875e-121]\n",
      " [3.61097870e-019 1.00000000e+000]\n",
      " [1.00000000e+000 6.08723500e-011]\n",
      " [9.08931018e-014 1.00000000e+000]\n",
      " [9.86988270e-001 1.30117301e-002]\n",
      " [6.76879879e-005 9.99932312e-001]\n",
      " [9.99999995e-001 5.00612488e-009]\n",
      " [1.00000000e+000 1.06912036e-013]\n",
      " [1.00000000e+000 6.64621342e-035]\n",
      " [9.99999913e-001 8.67416997e-008]\n",
      " [1.00000000e+000 1.91812221e-024]\n",
      " [1.00000000e+000 2.15589248e-016]\n",
      " [9.64428920e-001 3.55710802e-002]\n",
      " [1.00000000e+000 2.45845242e-084]\n",
      " [1.00000000e+000 1.49915536e-041]\n",
      " [1.00000000e+000 1.02105800e-050]\n",
      " [8.33324029e-073 1.00000000e+000]\n",
      " [2.71650407e-001 7.28349593e-001]\n",
      " [2.38346167e-009 9.99999998e-001]\n",
      " [1.00000000e+000 8.40459200e-030]\n",
      " [1.00000000e+000 6.28538816e-014]\n",
      " [1.00000000e+000 9.42109936e-017]\n",
      " [1.00000000e+000 2.61377176e-018]\n",
      " [1.00000000e+000 3.87935859e-037]\n",
      " [1.00000000e+000 2.37506730e-011]\n",
      " [1.00000000e+000 4.44405790e-016]\n",
      " [1.00000000e+000 3.10509448e-078]\n",
      " [0.00000000e+000 1.00000000e+000]\n",
      " [9.99202060e-001 7.97939830e-004]\n",
      " [5.11925126e-001 4.88074874e-001]\n",
      " [1.00000000e+000 9.84620618e-056]\n",
      " [1.00000000e+000 7.74529460e-074]\n",
      " [2.15829737e-059 1.00000000e+000]\n",
      " [1.00000000e+000 6.09952992e-064]\n",
      " [9.99999999e-001 1.13234672e-009]\n",
      " [2.49915085e-010 1.00000000e+000]\n",
      " [3.72287199e-009 9.99999996e-001]\n",
      " [1.79087434e-008 9.99999982e-001]\n",
      " [1.00000000e+000 1.41189259e-034]\n",
      " [1.00000000e+000 2.28976775e-078]\n",
      " [1.00000000e+000 6.57167955e-065]\n",
      " [1.00000000e+000 6.02839435e-017]\n",
      " [1.66693125e-004 9.99833307e-001]\n",
      " [1.00000000e+000 8.50737534e-025]\n",
      " [3.45497303e-052 1.00000000e+000]\n",
      " [2.42120439e-033 1.00000000e+000]\n",
      " [1.00000000e+000 3.32187302e-037]\n",
      " [1.96137072e-047 1.00000000e+000]\n",
      " [9.99999713e-001 2.87235032e-007]\n",
      " [1.00000000e+000 2.09991799e-018]\n",
      " [1.00000000e+000 2.03110953e-079]\n",
      " [4.12279630e-001 5.87720370e-001]\n",
      " [1.00000000e+000 1.43421279e-016]\n",
      " [9.99429175e-001 5.70825277e-004]\n",
      " [2.20241317e-127 1.00000000e+000]\n",
      " [1.00000000e+000 6.22846436e-019]\n",
      " [1.74508807e-063 1.00000000e+000]\n",
      " [1.00000000e+000 7.34503137e-012]\n",
      " [1.00000000e+000 2.45540183e-025]\n",
      " [1.88238781e-024 1.00000000e+000]\n",
      " [1.00000000e+000 1.02559693e-040]\n",
      " [1.00000000e+000 8.00606830e-024]\n",
      " [4.17937825e-001 5.82062175e-001]\n",
      " [2.38216700e-054 1.00000000e+000]\n",
      " [1.00000000e+000 4.33963155e-044]\n",
      " [1.00000000e+000 4.44283512e-048]\n",
      " [2.31442333e-133 1.00000000e+000]\n",
      " [1.00000000e+000 1.15581130e-024]\n",
      " [8.39048066e-024 1.00000000e+000]\n",
      " [5.75272528e-111 1.00000000e+000]\n",
      " [4.29228843e-054 1.00000000e+000]\n",
      " [1.00000000e+000 3.77542733e-028]\n",
      " [1.00000000e+000 8.18658212e-035]\n",
      " [1.88664172e-089 1.00000000e+000]\n",
      " [1.00000000e+000 2.59330087e-103]\n",
      " [2.37348476e-075 1.00000000e+000]\n",
      " [1.06207203e-031 1.00000000e+000]\n",
      " [1.00000000e+000 2.85534611e-014]\n",
      " [1.00000000e+000 1.55699210e-046]\n",
      " [1.00000000e+000 1.09723832e-024]\n",
      " [1.00000000e+000 2.33577477e-016]\n",
      " [5.91907663e-011 1.00000000e+000]\n",
      " [1.00000000e+000 3.10193623e-034]\n",
      " [1.00000000e+000 4.10938247e-015]\n",
      " [9.99996676e-001 3.32411752e-006]\n",
      " [1.00000000e+000 1.18825489e-038]]\n"
     ]
    }
   ],
   "source": [
    "em_model = GaussianMixture(n_components=optimal_k, random_state=42)\n",
    "em_model.fit(X_train)\n",
    "\n",
    "probabilities = em_model.predict_proba(X_test)\n",
    "print(probabilities.shape, probabilities)"
   ]
  },
  {
   "cell_type": "markdown",
   "metadata": {},
   "source": [
    "#### 4) Perform logistic regression on the mapped data set with the labels of the original test set. Indicate now the accuracy. Is there a relation between the number of clusters, the cluster evaluation and the accuracy of the logistic regression model?"
   ]
  },
  {
   "cell_type": "code",
   "execution_count": 13,
   "metadata": {},
   "outputs": [
    {
     "name": "stdout",
     "output_type": "stream",
     "text": [
      "0.8713450292397661\n"
     ]
    }
   ],
   "source": [
    "X_mapped = probabilities\n",
    "\n",
    "log_reg = LogisticRegression(random_state=42)\n",
    "log_reg.fit(X_mapped, y_test)\n",
    "\n",
    "y_pred = log_reg.predict(X_mapped)\n",
    "\n",
    "accuracy = accuracy_score(y_test, y_pred)\n",
    "print(accuracy)"
   ]
  },
  {
   "cell_type": "markdown",
   "metadata": {},
   "source": [
    "As the number of clusters increases up to a certain point, clustering quality improves because the data is divided into finer partitions that can capture more complex patterns. \n",
    "However, beyond this point, adding more clusters begins to decrease clustering quality due to over-segmentation: clusters become too small and fragmented, often capturing noise rather than meaningful patterns. \n",
    "This proves the existance of a relationship between the number of clusters and the cluster evaluation.\n",
    "\n",
    "Higher-quality clusters indicate that data points within each cluster are more similar to one another, which can help the logistic regression model generalize better, leading to higher accuracy. This suggests a relationship between cluster quality (as measured by cluster evaluation metrics) and the accuracy of the logistic regression model.\n",
    "\n",
    "To conclude, there is a relationship between the number of clusters, the cluster evaluation and the accuracy of the logistic regression model."
   ]
  },
  {
   "cell_type": "markdown",
   "metadata": {},
   "source": [
    "#### 5) Train an RBF network using the clustering with optimal k  from 2)."
   ]
  },
  {
   "cell_type": "code",
   "execution_count": 14,
   "metadata": {},
   "outputs": [
    {
     "name": "stdout",
     "output_type": "stream",
     "text": [
      "0.6374269005847953\n"
     ]
    }
   ],
   "source": [
    "centers = em_model.means_\n",
    "\n",
    "X_rbf_transformed = rbf_kernel(X_test, centers)\n",
    "\n",
    "rbf_model = Ridge(alpha=1.0)\n",
    "rbf_model.fit(X_rbf_transformed, y_test)\n",
    "\n",
    "y_rbf_pred = rbf_model.predict(X_rbf_transformed)\n",
    "\n",
    "y_rbf_pred_binary = (y_rbf_pred >= 0.5).astype(int)\n",
    "\n",
    "rbf_accuracy = accuracy_score(y_test, y_rbf_pred_binary)\n",
    "print(rbf_accuracy)"
   ]
  },
  {
   "cell_type": "markdown",
   "metadata": {},
   "source": [
    "#### 6) Discuss your findings on a (up to) 5 page document."
   ]
  }
 ],
 "metadata": {
  "kernelspec": {
   "display_name": "Python 3",
   "language": "python",
   "name": "python3"
  },
  "language_info": {
   "codemirror_mode": {
    "name": "ipython",
    "version": 3
   },
   "file_extension": ".py",
   "mimetype": "text/x-python",
   "name": "python",
   "nbconvert_exporter": "python",
   "pygments_lexer": "ipython3",
   "version": "3.10.12"
  }
 },
 "nbformat": 4,
 "nbformat_minor": 2
}
