{
 "cells": [
  {
   "cell_type": "markdown",
   "metadata": {},
   "source": [
    "\"\"\"\n",
    "Machine Learning Homework 4\n",
    "Done by:\n",
    "Mariana Santana 106992\n",
    "Pedro Leal 106154\n",
    "LEIC-A\n",
    "\"\"\""
   ]
  },
  {
   "cell_type": "markdown",
   "metadata": {},
   "source": [
    "#### Consider the breast_cancer dataset data = datasets.load_breast_cancer()  with binary target variable y=‘malignant’. Split it 70% for training and 30% for testing."
   ]
  },
  {
   "cell_type": "code",
   "execution_count": 21,
   "metadata": {},
   "outputs": [],
   "source": [
    "\"\"\"\n",
    "General imports and variables for all exercises; run this cell before any other\n",
    "\"\"\"\n",
    "import numpy as np\n",
    "from sklearn.datasets import load_breast_cancer\n",
    "from sklearn.model_selection import train_test_split\n",
    "from sklearn.linear_model import LogisticRegression\n",
    "from sklearn.metrics import accuracy_score, silhouette_score\n",
    "from sklearn.mixture import GaussianMixture\n",
    "from sklearn.metrics.pairwise import rbf_kernel\n",
    "from sklearn.linear_model import Ridge\n",
    "\n",
    "data = load_breast_cancer()\n",
    "X, y = data.data, data.target"
   ]
  },
  {
   "cell_type": "markdown",
   "metadata": {},
   "source": [
    "#### 1) Perform logistic regression and indicate the accuracy. "
   ]
  },
  {
   "cell_type": "code",
   "execution_count": 22,
   "metadata": {},
   "outputs": [
    {
     "name": "stdout",
     "output_type": "stream",
     "text": [
      "Accuracy: 0.9766081871345029\n"
     ]
    }
   ],
   "source": [
    "X_train, X_test, y_train, y_test = train_test_split(X, y, test_size=0.3, random_state=42)\n",
    "\n",
    "log_reg = LogisticRegression(max_iter=10000, random_state=42)\n",
    "log_reg.fit(X_train, y_train)\n",
    "\n",
    "y_pred = log_reg.predict(X_test)\n",
    "\n",
    "accuracy = accuracy_score(y_test, y_pred)\n",
    "\n",
    "print(f\"Accuracy: {accuracy}\")"
   ]
  },
  {
   "cell_type": "markdown",
   "metadata": {},
   "source": [
    "#### 2) Perform EM clustering on the training data set with different number k of clusters. Evaluate the quality of the clusterings using Silhouette. Is the number of clusters correlated with the quality of clustering? Which is the optimal k? "
   ]
  },
  {
   "cell_type": "code",
   "execution_count": 23,
   "metadata": {},
   "outputs": [
    {
     "name": "stdout",
     "output_type": "stream",
     "text": [
      "2\n"
     ]
    }
   ],
   "source": [
    "k_values = range(2, 10)\n",
    "\n",
    "silhouette_scores = []\n",
    "\n",
    "for k in k_values:\n",
    "    gmm = GaussianMixture(n_components=k, random_state=42)\n",
    "    gmm.fit(X_train)\n",
    "    labels = gmm.predict(X_train)\n",
    "    score = silhouette_score(X_train, labels)\n",
    "    silhouette_scores.append(score)\n",
    "\n",
    "optimal_k = k_values[np.argmax(silhouette_scores)]\n",
    "print(optimal_k)"
   ]
  },
  {
   "cell_type": "markdown",
   "metadata": {},
   "source": [
    "#### 3) Map the test set into probability values of the k-clusters. If you have a data point represented by a vector of dimension d, you will map it into a vector of dimension: prob=em_model.predict_proba(X)"
   ]
  },
  {
   "cell_type": "code",
   "execution_count": 24,
   "metadata": {},
   "outputs": [
    {
     "name": "stdout",
     "output_type": "stream",
     "text": [
      "(171, 2) [[8.45317965e-013 1.00000000e+000]\n",
      " [1.00000000e+000 7.98725997e-101]\n",
      " [9.99999903e-001 9.74364029e-008]\n",
      " [4.79691619e-023 1.00000000e+000]\n",
      " [3.29595693e-028 1.00000000e+000]\n",
      " [1.00000000e+000 5.15118097e-058]\n",
      " [1.00000000e+000 1.05400217e-207]\n",
      " [1.00000000e+000 3.58578868e-013]\n",
      " [1.00000000e+000 1.08956508e-014]\n",
      " [5.37102624e-011 1.00000000e+000]\n",
      " [2.38594015e-010 1.00000000e+000]\n",
      " [1.00000000e+000 5.87241433e-017]\n",
      " [4.51319532e-006 9.99995487e-001]\n",
      " [5.93434266e-001 4.06565734e-001]\n",
      " [3.97311911e-011 1.00000000e+000]\n",
      " [1.00000000e+000 1.16758100e-041]\n",
      " [6.60425533e-007 9.99999340e-001]\n",
      " [1.49677648e-058 1.00000000e+000]\n",
      " [1.74792741e-112 1.00000000e+000]\n",
      " [1.00000000e+000 6.27211373e-096]\n",
      " [8.38060972e-005 9.99916194e-001]\n",
      " [1.28295310e-016 1.00000000e+000]\n",
      " [1.00000000e+000 3.42801970e-171]\n",
      " [1.64521942e-036 1.00000000e+000]\n",
      " [6.85127259e-029 1.00000000e+000]\n",
      " [1.84222404e-027 1.00000000e+000]\n",
      " [9.68653958e-010 9.99999999e-001]\n",
      " [4.04137455e-039 1.00000000e+000]\n",
      " [1.75380272e-014 1.00000000e+000]\n",
      " [1.00000000e+000 7.56024236e-093]\n",
      " [2.46746596e-031 1.00000000e+000]\n",
      " [1.76073006e-015 1.00000000e+000]\n",
      " [7.13648292e-073 1.00000000e+000]\n",
      " [1.08459597e-007 9.99999892e-001]\n",
      " [2.75466652e-042 1.00000000e+000]\n",
      " [7.36037802e-027 1.00000000e+000]\n",
      " [9.99999951e-001 4.87111562e-008]\n",
      " [1.06442184e-024 1.00000000e+000]\n",
      " [1.00000000e+000 1.42020825e-051]\n",
      " [4.05037218e-009 9.99999996e-001]\n",
      " [5.47680653e-045 1.00000000e+000]\n",
      " [6.34945830e-001 3.65054170e-001]\n",
      " [1.27397121e-022 1.00000000e+000]\n",
      " [2.09285431e-018 1.00000000e+000]\n",
      " [6.87422988e-040 1.00000000e+000]\n",
      " [4.31034312e-023 1.00000000e+000]\n",
      " [1.83089063e-090 1.00000000e+000]\n",
      " [1.20086668e-077 1.00000000e+000]\n",
      " [1.44679022e-019 1.00000000e+000]\n",
      " [6.63099408e-032 1.00000000e+000]\n",
      " [1.00000000e+000 1.04940573e-035]\n",
      " [1.00000000e+000 9.89801199e-079]\n",
      " [7.80970956e-007 9.99999219e-001]\n",
      " [4.48365479e-009 9.99999996e-001]\n",
      " [7.52262993e-042 1.00000000e+000]\n",
      " [1.23044133e-012 1.00000000e+000]\n",
      " [4.55818152e-041 1.00000000e+000]\n",
      " [1.00000000e+000 0.00000000e+000]\n",
      " [2.88676878e-002 9.71132312e-001]\n",
      " [1.39715238e-021 1.00000000e+000]\n",
      " [4.20500743e-014 1.00000000e+000]\n",
      " [1.00000000e+000 8.85403587e-083]\n",
      " [1.00000000e+000 8.35396609e-270]\n",
      " [1.06733290e-009 9.99999999e-001]\n",
      " [9.69020174e-018 1.00000000e+000]\n",
      " [4.65734306e-009 9.99999995e-001]\n",
      " [1.00000000e+000 1.15513539e-020]\n",
      " [1.00000000e+000 2.70648595e-127]\n",
      " [7.72461617e-022 1.00000000e+000]\n",
      " [1.10330461e-014 1.00000000e+000]\n",
      " [6.48118583e-010 9.99999999e-001]\n",
      " [1.00000000e+000 2.36495464e-028]\n",
      " [8.58656415e-009 9.99999991e-001]\n",
      " [6.36994128e-002 9.36300587e-001]\n",
      " [4.33494338e-106 1.00000000e+000]\n",
      " [9.58190217e-009 9.99999990e-001]\n",
      " [2.82042928e-008 9.99999972e-001]\n",
      " [3.07762011e-009 9.99999997e-001]\n",
      " [3.99326797e-028 1.00000000e+000]\n",
      " [3.28700736e-020 1.00000000e+000]\n",
      " [9.99998964e-001 1.03555137e-006]\n",
      " [5.96546654e-023 1.00000000e+000]\n",
      " [2.52473579e-006 9.99997475e-001]\n",
      " [1.00000000e+000 1.74019922e-174]\n",
      " [1.00000000e+000 8.01749758e-018]\n",
      " [9.99998322e-001 1.67760510e-006]\n",
      " [3.90221027e-007 9.99999610e-001]\n",
      " [1.00000000e+000 7.22867489e-042]\n",
      " [1.17110398e-033 1.00000000e+000]\n",
      " [3.23273212e-013 1.00000000e+000]\n",
      " [7.85655571e-018 1.00000000e+000]\n",
      " [9.03137469e-009 9.99999991e-001]\n",
      " [3.53820132e-005 9.99964618e-001]\n",
      " [5.66687702e-059 1.00000000e+000]\n",
      " [2.31540974e-048 1.00000000e+000]\n",
      " [1.68513592e-058 1.00000000e+000]\n",
      " [1.00000000e+000 2.35017486e-093]\n",
      " [1.00000000e+000 2.79296915e-014]\n",
      " [2.76433111e-028 1.00000000e+000]\n",
      " [1.00000000e+000 3.01124004e-014]\n",
      " [1.00000000e+000 1.93498862e-029]\n",
      " [3.77875448e-046 1.00000000e+000]\n",
      " [1.00000000e+000 2.92825405e-165]\n",
      " [1.00000000e+000 1.23802030e-018]\n",
      " [7.69055182e-033 1.00000000e+000]\n",
      " [4.65646779e-017 1.00000000e+000]\n",
      " [8.95225815e-019 1.00000000e+000]\n",
      " [1.00000000e+000 0.00000000e+000]\n",
      " [3.56620579e-005 9.99964338e-001]\n",
      " [4.73690548e-005 9.99952631e-001]\n",
      " [1.00000000e+000 2.94705389e-014]\n",
      " [1.55835028e-020 1.00000000e+000]\n",
      " [1.54427369e-010 1.00000000e+000]\n",
      " [1.00000000e+000 0.00000000e+000]\n",
      " [0.00000000e+000 1.00000000e+000]\n",
      " [1.00000000e+000 3.25363736e-170]\n",
      " [4.28976406e-074 1.00000000e+000]\n",
      " [5.51974021e-029 1.00000000e+000]\n",
      " [1.59059764e-072 1.00000000e+000]\n",
      " [7.42868658e-006 9.99992571e-001]\n",
      " [7.25697816e-040 1.00000000e+000]\n",
      " [9.93527668e-018 1.00000000e+000]\n",
      " [3.52555693e-016 1.00000000e+000]\n",
      " [1.00000000e+000 2.55517537e-048]\n",
      " [1.45805758e-015 1.00000000e+000]\n",
      " [1.00000000e+000 1.30661275e-147]\n",
      " [9.99999116e-001 8.84298732e-007]\n",
      " [1.89620542e-046 1.00000000e+000]\n",
      " [2.22692692e-010 1.00000000e+000]\n",
      " [1.00000000e+000 6.74522749e-111]\n",
      " [1.00000000e+000 0.00000000e+000]\n",
      " [9.99903777e-001 9.62233178e-005]\n",
      " [1.96333017e-009 9.99999998e-001]\n",
      " [2.28301912e-019 1.00000000e+000]\n",
      " [1.07748094e-002 9.89225191e-001]\n",
      " [4.71303903e-004 9.99528696e-001]\n",
      " [3.51524681e-009 9.99999996e-001]\n",
      " [7.94981826e-047 1.00000000e+000]\n",
      " [6.96697784e-011 1.00000000e+000]\n",
      " [1.00000000e+000 5.30715424e-022]\n",
      " [6.95875947e-023 1.00000000e+000]\n",
      " [1.00000000e+000 0.00000000e+000]\n",
      " [1.29425074e-033 1.00000000e+000]\n",
      " [7.86400536e-018 1.00000000e+000]\n",
      " [3.11407566e-005 9.99968859e-001]\n",
      " [3.54292553e-014 1.00000000e+000]\n",
      " [1.00000000e+000 4.64272096e-025]\n",
      " [1.00000000e+000 1.71352032e-114]\n",
      " [9.99974692e-001 2.53083448e-005]\n",
      " [4.91084390e-012 1.00000000e+000]\n",
      " [9.99831025e-001 1.68975416e-004]\n",
      " [9.45546059e-023 1.00000000e+000]\n",
      " [2.09364389e-072 1.00000000e+000]\n",
      " [3.48234606e-011 1.00000000e+000]\n",
      " [4.17566753e-024 1.00000000e+000]\n",
      " [1.00000000e+000 3.57693646e-319]\n",
      " [1.00000000e+000 7.58814770e-034]\n",
      " [8.66055122e-090 1.00000000e+000]\n",
      " [8.25062410e-004 9.99174938e-001]\n",
      " [2.10939720e-028 1.00000000e+000]\n",
      " [2.72760350e-143 1.00000000e+000]\n",
      " [2.75012186e-050 1.00000000e+000]\n",
      " [1.89177868e-046 1.00000000e+000]\n",
      " [1.84846507e-022 1.00000000e+000]\n",
      " [3.98582887e-007 9.99999601e-001]\n",
      " [4.88160979e-039 1.00000000e+000]\n",
      " [4.47418445e-015 1.00000000e+000]\n",
      " [5.95452501e-006 9.99994045e-001]\n",
      " [6.50643834e-104 1.00000000e+000]\n",
      " [1.71989206e-009 9.99999998e-001]\n",
      " [4.75251174e-017 1.00000000e+000]]\n"
     ]
    }
   ],
   "source": [
    "em_model = GaussianMixture(n_components=optimal_k, random_state=42)\n",
    "em_model.fit(X_train)\n",
    "\n",
    "probabilities = em_model.predict_proba(X_test)\n",
    "print(probabilities.shape, probabilities)"
   ]
  },
  {
   "cell_type": "markdown",
   "metadata": {},
   "source": [
    "#### 4) Perform logistic regression on the mapped data set with the labels of the original test set. Indicate now the accuracy. Is there a relation between the number of clusters, the cluster evaluation and the accuracy of the logistic regression model?"
   ]
  },
  {
   "cell_type": "code",
   "execution_count": 25,
   "metadata": {},
   "outputs": [
    {
     "name": "stdout",
     "output_type": "stream",
     "text": [
      "0.9239766081871345\n"
     ]
    }
   ],
   "source": [
    "X_mapped = probabilities\n",
    "\n",
    "log_reg = LogisticRegression(random_state=42)\n",
    "log_reg.fit(X_mapped, y_test)\n",
    "\n",
    "y_pred = log_reg.predict(X_mapped)\n",
    "\n",
    "accuracy = accuracy_score(y_test, y_pred)\n",
    "print(accuracy)"
   ]
  },
  {
   "cell_type": "markdown",
   "metadata": {},
   "source": [
    "#### 5) Train an RBF network using the clustering with optimal k  from 2)."
   ]
  },
  {
   "cell_type": "code",
   "execution_count": 26,
   "metadata": {},
   "outputs": [
    {
     "name": "stdout",
     "output_type": "stream",
     "text": [
      "0.631578947368421\n"
     ]
    }
   ],
   "source": [
    "centers = em_model.means_\n",
    "\n",
    "X_rbf_transformed = rbf_kernel(X_test, centers)\n",
    "\n",
    "rbf_model = Ridge(alpha=1.0)\n",
    "rbf_model.fit(X_rbf_transformed, y_test)\n",
    "\n",
    "y_rbf_pred = rbf_model.predict(X_rbf_transformed)\n",
    "\n",
    "y_rbf_pred_binary = (y_rbf_pred >= 0.5).astype(int)\n",
    "\n",
    "rbf_accuracy = accuracy_score(y_test, y_rbf_pred_binary)\n",
    "print(rbf_accuracy)"
   ]
  }
 ],
 "metadata": {
  "kernelspec": {
   "display_name": "Python 3",
   "language": "python",
   "name": "python3"
  },
  "language_info": {
   "codemirror_mode": {
    "name": "ipython",
    "version": 3
   },
   "file_extension": ".py",
   "mimetype": "text/x-python",
   "name": "python",
   "nbconvert_exporter": "python",
   "pygments_lexer": "ipython3",
   "version": "3.10.12"
  }
 },
 "nbformat": 4,
 "nbformat_minor": 2
}
